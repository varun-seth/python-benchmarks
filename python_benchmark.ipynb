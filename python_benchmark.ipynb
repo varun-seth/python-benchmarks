{
  "nbformat": 4,
  "nbformat_minor": 0,
  "metadata": {
    "colab": {
      "provenance": [],
      "collapsed_sections": []
    },
    "kernelspec": {
      "name": "python3",
      "display_name": "Python 3"
    },
    "language_info": {
      "name": "python"
    }
  },
  "cells": [
    {
      "cell_type": "code",
      "execution_count": 19,
      "metadata": {
        "id": "g2pve_fCBqCy"
      },
      "outputs": [],
      "source": [
        "script = \"\"\"\n",
        "import platform\n",
        "\n",
        "def fibonacci(n):\n",
        "    if n == 0:\n",
        "        return 0\n",
        "    if n == 1:\n",
        "        return 1\n",
        "    return fibonacci(n-1) + fibonacci(n-2)\n",
        "import time\n",
        "t1 = time.time()\n",
        "n = fibonacci(35)\n",
        "t2 = time.time()\n",
        "print({\"version\": platform.python_version(), \"answer\": n, \"time\": t2-t1})\n",
        "\"\"\"\n",
        "\n",
        "with open(\"script.py\", \"w\") as f:\n",
        "    f.write(script)"
      ]
    },
    {
      "cell_type": "code",
      "source": [
        "!apt install -y -qq python3.11"
      ],
      "metadata": {
        "colab": {
          "base_uri": "https://localhost:8080/"
        },
        "id": "a9U1jseZBrfC",
        "outputId": "c8619ff0-4c42-45c7-9a61-3c0e56d8d476"
      },
      "execution_count": 20,
      "outputs": [
        {
          "output_type": "stream",
          "name": "stdout",
          "text": [
            "python3.11 is already the newest version (3.11.0-1+bionic1).\n",
            "The following package was automatically installed and is no longer required:\n",
            "  libnvidia-common-460\n",
            "Use 'apt autoremove' to remove it.\n",
            "0 upgraded, 0 newly installed, 0 to remove and 29 not upgraded.\n"
          ]
        }
      ]
    },
    {
      "cell_type": "code",
      "source": [
        "!python3.11 script.py"
      ],
      "metadata": {
        "colab": {
          "base_uri": "https://localhost:8080/"
        },
        "id": "Pt6lFzs9B14B",
        "outputId": "64452b9f-0c74-4e28-cd94-41ec205cd671"
      },
      "execution_count": 21,
      "outputs": [
        {
          "output_type": "stream",
          "name": "stdout",
          "text": [
            "{'version': '3.11.0', 'answer': 9227465, 'time': 2.051731586456299}\n"
          ]
        }
      ]
    },
    {
      "cell_type": "code",
      "source": [
        "!python3.7 script.py"
      ],
      "metadata": {
        "colab": {
          "base_uri": "https://localhost:8080/"
        },
        "id": "5uDQx-HvB-O3",
        "outputId": "d52669bf-b3ac-419c-abca-8ac3169379b4"
      },
      "execution_count": 22,
      "outputs": [
        {
          "output_type": "stream",
          "name": "stdout",
          "text": [
            "{'version': '3.7.15', 'answer': 9227465, 'time': 3.7067360877990723}\n"
          ]
        }
      ]
    },
    {
      "cell_type": "code",
      "source": [
        "# this is almost 54% improvement"
      ],
      "metadata": {
        "colab": {
          "base_uri": "https://localhost:8080/"
        },
        "id": "FKl3Bw4wCSbO",
        "outputId": "ba9b46ab-78b8-4f63-fc67-54d000118df7"
      },
      "execution_count": 24,
      "outputs": [
        {
          "output_type": "execute_result",
          "data": {
            "text/plain": [
              "0.5405638406529539"
            ]
          },
          "metadata": {},
          "execution_count": 24
        }
      ]
    },
    {
      "cell_type": "code",
      "source": [],
      "metadata": {
        "id": "NKtGW9_uCoP1"
      },
      "execution_count": null,
      "outputs": []
    }
  ]
}
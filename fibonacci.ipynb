{
  "cells": [
    {
      "cell_type": "markdown",
      "metadata": {
        "id": "hdVzWKFAUUff"
      },
      "source": [
        "Python 3.11 has about 45-50% improvement over previous version for simple calculations like fibonacci function"
      ]
    },
    {
      "cell_type": "code",
      "execution_count": null,
      "metadata": {},
      "outputs": [],
      "source": [
        "%pip install -q tqdm pandas tabulate"
      ]
    },
    {
      "cell_type": "code",
      "execution_count": 15,
      "metadata": {
        "id": "g2pve_fCBqCy"
      },
      "outputs": [],
      "source": [
        "script = \"\"\"\n",
        "\n",
        "import platform\n",
        "import json\n",
        "import os\n",
        "import time\n",
        "\n",
        "N = 30\n",
        "n_sim = 100\n",
        "\n",
        "def fibonacci(n):\n",
        "    if n == 0:\n",
        "        return 0\n",
        "    if n == 1:\n",
        "        return 1\n",
        "    return fibonacci(n-1) + fibonacci(n-2)\n",
        "\n",
        "def bench(n):\n",
        "    t1 = time.time()\n",
        "    fibonacci(n)\n",
        "    t2 = time.time()\n",
        "    return t2-t1\n",
        "\n",
        "results = []\n",
        "\n",
        "for _ in range(n_sim):\n",
        "    duration = bench(N)\n",
        "    result = {\"version\": platform.python_version(), \"n\": N, \"duration\": duration}\n",
        "    results.append(result)\n",
        "\n",
        "print(json.dumps(obj=results, indent=4))\n",
        "\"\"\"\n",
        "\n",
        "with open(\"script.py\", \"w\") as f:\n",
        "    f.write(script)"
      ]
    },
    {
      "cell_type": "code",
      "execution_count": null,
      "metadata": {},
      "outputs": [],
      "source": []
    },
    {
      "cell_type": "code",
      "execution_count": 42,
      "metadata": {
        "id": "VZAugmYXE9Vr"
      },
      "outputs": [
        {
          "name": "stderr",
          "output_type": "stream",
          "text": [
            "100%|██████████| 6/6 [03:23<00:00, 33.93s/it]\n"
          ]
        }
      ],
      "source": [
        "import subprocess\n",
        "from tqdm import tqdm\n",
        "\n",
        "# List of Python versions you want to use\n",
        "python_versions = [\n",
        "\"3.7\",\n",
        "\"3.8\", \n",
        "\"3.9\", \n",
        "\"3.10\",\n",
        "\"3.11\",\n",
        "\"3.12\",\n",
        "]\n",
        "\n",
        "# Loop through each Python version\n",
        "for version in tqdm(python_versions):\n",
        "    # Construct the Docker command\n",
        "    command = (\n",
        "        f\"docker run --rm -v $(pwd):/usr/src/myapp -w /usr/src/myapp \"\n",
        "        f\"python:{version}-slim python script.py > results_{version}.json\"\n",
        "    )\n",
        "\n",
        "    # Execute the command\n",
        "    subprocess.run(command, shell=True, check=True)\n"
      ]
    },
    {
      "cell_type": "code",
      "execution_count": 43,
      "metadata": {},
      "outputs": [
        {
          "name": "stdout",
          "output_type": "stream",
          "text": [
            "latest: 3.12.1\n"
          ]
        }
      ],
      "source": [
        "import subprocess\n",
        "\n",
        "def get_python_version(python_major_version):\n",
        "    try:\n",
        "        command = f\"docker run --rm python:{python_major_version}-slim python -c \\\"import platform; print(platform.python_version())\\\"\"\n",
        "        \n",
        "        result = subprocess.run(command, shell=True, check=True, stdout=subprocess.PIPE, text=True)\n",
        "        \n",
        "        return result.stdout.strip()\n",
        "    except subprocess.CalledProcessError as e:\n",
        "        print(f\"An error occurred: {e}\")\n",
        "        return None\n",
        "\n",
        "latest = get_python_version(python_versions[-1])\n",
        "print(\"latest:\", latest)"
      ]
    },
    {
      "cell_type": "code",
      "execution_count": 44,
      "metadata": {
        "id": "Pt6lFzs9B14B"
      },
      "outputs": [],
      "source": [
        "import pandas as pd\n",
        "import json\n",
        "\n",
        "results = []\n",
        "for version in python_versions:\n",
        "    with open(f\"results_{version}.json\") as f:\n",
        "        results.extend(json.load(f))\n",
        "df = pd.DataFrame(results)"
      ]
    },
    {
      "cell_type": "code",
      "execution_count": 45,
      "metadata": {
        "colab": {
          "base_uri": "https://localhost:8080/",
          "height": 206
        },
        "id": "FKl3Bw4wCSbO",
        "outputId": "3ecca206-98ae-4267-f005-32cc6b90a912"
      },
      "outputs": [
        {
          "data": {
            "text/html": [
              "<div>\n",
              "<style scoped>\n",
              "    .dataframe tbody tr th:only-of-type {\n",
              "        vertical-align: middle;\n",
              "    }\n",
              "\n",
              "    .dataframe tbody tr th {\n",
              "        vertical-align: top;\n",
              "    }\n",
              "\n",
              "    .dataframe thead th {\n",
              "        text-align: right;\n",
              "    }\n",
              "</style>\n",
              "<table border=\"1\" class=\"dataframe\">\n",
              "  <thead>\n",
              "    <tr style=\"text-align: right;\">\n",
              "      <th></th>\n",
              "      <th>version</th>\n",
              "      <th>count</th>\n",
              "      <th>mean</th>\n",
              "      <th>latest_improvement</th>\n",
              "    </tr>\n",
              "  </thead>\n",
              "  <tbody>\n",
              "    <tr>\n",
              "      <th>0</th>\n",
              "      <td>3.7.17</td>\n",
              "      <td>100</td>\n",
              "      <td>0.425265</td>\n",
              "      <td>0.551687</td>\n",
              "    </tr>\n",
              "    <tr>\n",
              "      <th>1</th>\n",
              "      <td>3.8.18</td>\n",
              "      <td>100</td>\n",
              "      <td>0.399123</td>\n",
              "      <td>0.522323</td>\n",
              "    </tr>\n",
              "    <tr>\n",
              "      <th>2</th>\n",
              "      <td>3.9.18</td>\n",
              "      <td>100</td>\n",
              "      <td>0.406086</td>\n",
              "      <td>0.530513</td>\n",
              "    </tr>\n",
              "    <tr>\n",
              "      <th>3</th>\n",
              "      <td>3.10.13</td>\n",
              "      <td>100</td>\n",
              "      <td>0.390124</td>\n",
              "      <td>0.511304</td>\n",
              "    </tr>\n",
              "    <tr>\n",
              "      <th>4</th>\n",
              "      <td>3.11.7</td>\n",
              "      <td>100</td>\n",
              "      <td>0.188615</td>\n",
              "      <td>-0.010798</td>\n",
              "    </tr>\n",
              "    <tr>\n",
              "      <th>5</th>\n",
              "      <td>3.12.1</td>\n",
              "      <td>100</td>\n",
              "      <td>0.190652</td>\n",
              "      <td>0.000000</td>\n",
              "    </tr>\n",
              "  </tbody>\n",
              "</table>\n",
              "</div>"
            ],
            "text/plain": [
              "   version  count      mean  latest_improvement\n",
              "0   3.7.17    100  0.425265            0.551687\n",
              "1   3.8.18    100  0.399123            0.522323\n",
              "2   3.9.18    100  0.406086            0.530513\n",
              "3  3.10.13    100  0.390124            0.511304\n",
              "4   3.11.7    100  0.188615           -0.010798\n",
              "5   3.12.1    100  0.190652            0.000000"
            ]
          },
          "execution_count": 45,
          "metadata": {},
          "output_type": "execute_result"
        }
      ],
      "source": [
        "df_grouped = df[['version', 'duration']].groupby([\"version\"])['duration'].agg(['count','mean'])\n",
        "\n",
        "latest_mean = df_grouped.loc[latest]['mean']\n",
        "df_grouped['latest_improvement'] = 1 - latest_mean / df_grouped['mean']\n",
        "df_grouped = df_grouped.reset_index()\n",
        "df_grouped[['version_major', 'version_minor', 'version_patch']] = df_grouped['version'].str.split('.', expand=True).astype(int)\n",
        "df_grouped = df_grouped.sort_values(['version_major', 'version_minor', 'version_patch'])\\\n",
        "    .drop(columns=['version_major', 'version_minor', 'version_patch'])\\\n",
        "    .reset_index(drop=True)\n",
        "df_grouped"
      ]
    },
    {
      "cell_type": "code",
      "execution_count": 48,
      "metadata": {
        "id": "ivZbSissOgZl"
      },
      "outputs": [],
      "source": [
        "df_grouped.to_markdown(\"temp.md\")"
      ]
    },
    {
      "cell_type": "code",
      "execution_count": null,
      "metadata": {},
      "outputs": [],
      "source": []
    }
  ],
  "metadata": {
    "colab": {
      "collapsed_sections": [],
      "provenance": []
    },
    "kernelspec": {
      "display_name": "Python 3",
      "name": "python3"
    },
    "language_info": {
      "codemirror_mode": {
        "name": "ipython",
        "version": 3
      },
      "file_extension": ".py",
      "mimetype": "text/x-python",
      "name": "python",
      "nbconvert_exporter": "python",
      "pygments_lexer": "ipython3",
      "version": "3.9.2"
    }
  },
  "nbformat": 4,
  "nbformat_minor": 0
}
